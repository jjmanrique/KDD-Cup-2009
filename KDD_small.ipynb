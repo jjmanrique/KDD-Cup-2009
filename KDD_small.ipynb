{
  "nbformat": 4,
  "nbformat_minor": 0,
  "metadata": {
    "colab": {
      "name": "KDD small.ipynb",
      "version": "0.3.2",
      "provenance": [],
      "collapsed_sections": []
    },
    "kernelspec": {
      "name": "python3",
      "display_name": "Python 3"
    },
    "accelerator": "GPU"
  },
  "cells": [
    {
      "metadata": {
        "id": "bEOTwno4iDFY",
        "colab_type": "text"
      },
      "cell_type": "markdown",
      "source": [
        "# KDD Cup 2009 Dataset"
      ]
    },
    {
      "metadata": {
        "id": "t-jP1WviiKWX",
        "colab_type": "text"
      },
      "cell_type": "markdown",
      "source": [
        "Knowledge Discovery and Data Mining (KDD) conferece is one of the most important competitions in Machine Learning anda data mining. Every year KDD ofers a data analysis competion, the KDD Cup.\n",
        "\n",
        "In 2009, The KDD Cup offered the opportunity to work on large marketing databases from the French Telecom company Orange to predict the propensity of customers to switch provider (churn), buy new products or services (appetency), or buy upgrades or add-ons proposed to them to make the sale more profitable (up-selling)\n",
        "\n",
        "This notebook performs analysis and creates predictive models for the small version of the dataset."
      ]
    },
    {
      "metadata": {
        "id": "f4InY1AJBiBR",
        "colab_type": "code",
        "colab": {}
      },
      "cell_type": "code",
      "source": [
        "import numpy as np\n",
        "import pandas as pd"
      ],
      "execution_count": 0,
      "outputs": []
    },
    {
      "metadata": {
        "id": "sj5CTFasi-Hf",
        "colab_type": "text"
      },
      "cell_type": "markdown",
      "source": [
        "Carregando variáveis do conjunto de dados:"
      ]
    },
    {
      "metadata": {
        "id": "XKO-RilFB-UZ",
        "colab_type": "code",
        "colab": {
          "base_uri": "https://localhost:8080/",
          "height": 698
        },
        "outputId": "62c5cfa0-3236-4839-a1ed-703ce2993852"
      },
      "cell_type": "code",
      "source": [
        "train = pd.read_table('orange_small_train.data')\n",
        "train.head(20)"
      ],
      "execution_count": 11,
      "outputs": [
        {
          "output_type": "execute_result",
          "data": {
            "text/html": [
              "<div>\n",
              "<style scoped>\n",
              "    .dataframe tbody tr th:only-of-type {\n",
              "        vertical-align: middle;\n",
              "    }\n",
              "\n",
              "    .dataframe tbody tr th {\n",
              "        vertical-align: top;\n",
              "    }\n",
              "\n",
              "    .dataframe thead th {\n",
              "        text-align: right;\n",
              "    }\n",
              "</style>\n",
              "<table border=\"1\" class=\"dataframe\">\n",
              "  <thead>\n",
              "    <tr style=\"text-align: right;\">\n",
              "      <th></th>\n",
              "      <th>Var1</th>\n",
              "      <th>Var2</th>\n",
              "      <th>Var3</th>\n",
              "      <th>Var4</th>\n",
              "      <th>Var5</th>\n",
              "      <th>Var6</th>\n",
              "      <th>Var7</th>\n",
              "      <th>Var8</th>\n",
              "      <th>Var9</th>\n",
              "      <th>Var10</th>\n",
              "      <th>...</th>\n",
              "      <th>Var221</th>\n",
              "      <th>Var222</th>\n",
              "      <th>Var223</th>\n",
              "      <th>Var224</th>\n",
              "      <th>Var225</th>\n",
              "      <th>Var226</th>\n",
              "      <th>Var227</th>\n",
              "      <th>Var228</th>\n",
              "      <th>Var229</th>\n",
              "      <th>Var230</th>\n",
              "    </tr>\n",
              "  </thead>\n",
              "  <tbody>\n",
              "    <tr>\n",
              "      <th>0</th>\n",
              "      <td>NaN</td>\n",
              "      <td>NaN</td>\n",
              "      <td>NaN</td>\n",
              "      <td>NaN</td>\n",
              "      <td>NaN</td>\n",
              "      <td>1526.0</td>\n",
              "      <td>7.0</td>\n",
              "      <td>NaN</td>\n",
              "      <td>NaN</td>\n",
              "      <td>NaN</td>\n",
              "      <td>...</td>\n",
              "      <td>oslk</td>\n",
              "      <td>fXVEsaq</td>\n",
              "      <td>jySVZNlOJy</td>\n",
              "      <td>NaN</td>\n",
              "      <td>NaN</td>\n",
              "      <td>xb3V</td>\n",
              "      <td>RAYp</td>\n",
              "      <td>F2FyR07IdsN7I</td>\n",
              "      <td>NaN</td>\n",
              "      <td>NaN</td>\n",
              "    </tr>\n",
              "    <tr>\n",
              "      <th>1</th>\n",
              "      <td>NaN</td>\n",
              "      <td>NaN</td>\n",
              "      <td>NaN</td>\n",
              "      <td>NaN</td>\n",
              "      <td>NaN</td>\n",
              "      <td>525.0</td>\n",
              "      <td>0.0</td>\n",
              "      <td>NaN</td>\n",
              "      <td>NaN</td>\n",
              "      <td>NaN</td>\n",
              "      <td>...</td>\n",
              "      <td>oslk</td>\n",
              "      <td>2Kb5FSF</td>\n",
              "      <td>LM8l689qOp</td>\n",
              "      <td>NaN</td>\n",
              "      <td>NaN</td>\n",
              "      <td>fKCe</td>\n",
              "      <td>RAYp</td>\n",
              "      <td>F2FyR07IdsN7I</td>\n",
              "      <td>NaN</td>\n",
              "      <td>NaN</td>\n",
              "    </tr>\n",
              "    <tr>\n",
              "      <th>2</th>\n",
              "      <td>NaN</td>\n",
              "      <td>NaN</td>\n",
              "      <td>NaN</td>\n",
              "      <td>NaN</td>\n",
              "      <td>NaN</td>\n",
              "      <td>5236.0</td>\n",
              "      <td>7.0</td>\n",
              "      <td>NaN</td>\n",
              "      <td>NaN</td>\n",
              "      <td>NaN</td>\n",
              "      <td>...</td>\n",
              "      <td>Al6ZaUT</td>\n",
              "      <td>NKv4yOc</td>\n",
              "      <td>jySVZNlOJy</td>\n",
              "      <td>NaN</td>\n",
              "      <td>kG3k</td>\n",
              "      <td>Qu4f</td>\n",
              "      <td>02N6s8f</td>\n",
              "      <td>ib5G6X1eUxUn6</td>\n",
              "      <td>am7c</td>\n",
              "      <td>NaN</td>\n",
              "    </tr>\n",
              "    <tr>\n",
              "      <th>3</th>\n",
              "      <td>NaN</td>\n",
              "      <td>NaN</td>\n",
              "      <td>NaN</td>\n",
              "      <td>NaN</td>\n",
              "      <td>NaN</td>\n",
              "      <td>NaN</td>\n",
              "      <td>0.0</td>\n",
              "      <td>NaN</td>\n",
              "      <td>NaN</td>\n",
              "      <td>NaN</td>\n",
              "      <td>...</td>\n",
              "      <td>oslk</td>\n",
              "      <td>CE7uk3u</td>\n",
              "      <td>LM8l689qOp</td>\n",
              "      <td>NaN</td>\n",
              "      <td>NaN</td>\n",
              "      <td>FSa2</td>\n",
              "      <td>RAYp</td>\n",
              "      <td>F2FyR07IdsN7I</td>\n",
              "      <td>NaN</td>\n",
              "      <td>NaN</td>\n",
              "    </tr>\n",
              "    <tr>\n",
              "      <th>4</th>\n",
              "      <td>NaN</td>\n",
              "      <td>NaN</td>\n",
              "      <td>NaN</td>\n",
              "      <td>NaN</td>\n",
              "      <td>NaN</td>\n",
              "      <td>1029.0</td>\n",
              "      <td>7.0</td>\n",
              "      <td>NaN</td>\n",
              "      <td>NaN</td>\n",
              "      <td>NaN</td>\n",
              "      <td>...</td>\n",
              "      <td>oslk</td>\n",
              "      <td>1J2cvxe</td>\n",
              "      <td>LM8l689qOp</td>\n",
              "      <td>NaN</td>\n",
              "      <td>kG3k</td>\n",
              "      <td>FSa2</td>\n",
              "      <td>RAYp</td>\n",
              "      <td>F2FyR07IdsN7I</td>\n",
              "      <td>mj86</td>\n",
              "      <td>NaN</td>\n",
              "    </tr>\n",
              "    <tr>\n",
              "      <th>5</th>\n",
              "      <td>NaN</td>\n",
              "      <td>NaN</td>\n",
              "      <td>NaN</td>\n",
              "      <td>NaN</td>\n",
              "      <td>NaN</td>\n",
              "      <td>658.0</td>\n",
              "      <td>7.0</td>\n",
              "      <td>NaN</td>\n",
              "      <td>NaN</td>\n",
              "      <td>NaN</td>\n",
              "      <td>...</td>\n",
              "      <td>zCkv</td>\n",
              "      <td>QqVuch3</td>\n",
              "      <td>LM8l689qOp</td>\n",
              "      <td>NaN</td>\n",
              "      <td>NaN</td>\n",
              "      <td>Qcbd</td>\n",
              "      <td>02N6s8f</td>\n",
              "      <td>Zy3gnGM</td>\n",
              "      <td>am7c</td>\n",
              "      <td>NaN</td>\n",
              "    </tr>\n",
              "    <tr>\n",
              "      <th>6</th>\n",
              "      <td>NaN</td>\n",
              "      <td>NaN</td>\n",
              "      <td>NaN</td>\n",
              "      <td>NaN</td>\n",
              "      <td>NaN</td>\n",
              "      <td>1680.0</td>\n",
              "      <td>7.0</td>\n",
              "      <td>NaN</td>\n",
              "      <td>NaN</td>\n",
              "      <td>NaN</td>\n",
              "      <td>...</td>\n",
              "      <td>oslk</td>\n",
              "      <td>XlgxB9z</td>\n",
              "      <td>LM8l689qOp</td>\n",
              "      <td>NaN</td>\n",
              "      <td>kG3k</td>\n",
              "      <td>FSa2</td>\n",
              "      <td>RAYp</td>\n",
              "      <td>55YFVY9</td>\n",
              "      <td>am7c</td>\n",
              "      <td>NaN</td>\n",
              "    </tr>\n",
              "    <tr>\n",
              "      <th>7</th>\n",
              "      <td>NaN</td>\n",
              "      <td>NaN</td>\n",
              "      <td>NaN</td>\n",
              "      <td>NaN</td>\n",
              "      <td>NaN</td>\n",
              "      <td>77.0</td>\n",
              "      <td>0.0</td>\n",
              "      <td>NaN</td>\n",
              "      <td>NaN</td>\n",
              "      <td>NaN</td>\n",
              "      <td>...</td>\n",
              "      <td>oslk</td>\n",
              "      <td>R2LdzOv</td>\n",
              "      <td>NaN</td>\n",
              "      <td>NaN</td>\n",
              "      <td>NaN</td>\n",
              "      <td>FSa2</td>\n",
              "      <td>RAYp</td>\n",
              "      <td>F2FyR07IdsN7I</td>\n",
              "      <td>NaN</td>\n",
              "      <td>NaN</td>\n",
              "    </tr>\n",
              "    <tr>\n",
              "      <th>8</th>\n",
              "      <td>NaN</td>\n",
              "      <td>NaN</td>\n",
              "      <td>NaN</td>\n",
              "      <td>NaN</td>\n",
              "      <td>NaN</td>\n",
              "      <td>1176.0</td>\n",
              "      <td>7.0</td>\n",
              "      <td>NaN</td>\n",
              "      <td>NaN</td>\n",
              "      <td>NaN</td>\n",
              "      <td>...</td>\n",
              "      <td>zCkv</td>\n",
              "      <td>K2SqEo9</td>\n",
              "      <td>jySVZNlOJy</td>\n",
              "      <td>NaN</td>\n",
              "      <td>kG3k</td>\n",
              "      <td>PM2D</td>\n",
              "      <td>6fzt</td>\n",
              "      <td>am14IcfM7tWLrUmRT52KtA</td>\n",
              "      <td>am7c</td>\n",
              "      <td>NaN</td>\n",
              "    </tr>\n",
              "    <tr>\n",
              "      <th>9</th>\n",
              "      <td>NaN</td>\n",
              "      <td>NaN</td>\n",
              "      <td>NaN</td>\n",
              "      <td>NaN</td>\n",
              "      <td>NaN</td>\n",
              "      <td>1141.0</td>\n",
              "      <td>7.0</td>\n",
              "      <td>NaN</td>\n",
              "      <td>NaN</td>\n",
              "      <td>NaN</td>\n",
              "      <td>...</td>\n",
              "      <td>oslk</td>\n",
              "      <td>EPqQcw6</td>\n",
              "      <td>LM8l689qOp</td>\n",
              "      <td>NaN</td>\n",
              "      <td>kG3k</td>\n",
              "      <td>FSa2</td>\n",
              "      <td>RAYp</td>\n",
              "      <td>55YFVY9</td>\n",
              "      <td>NaN</td>\n",
              "      <td>NaN</td>\n",
              "    </tr>\n",
              "    <tr>\n",
              "      <th>10</th>\n",
              "      <td>NaN</td>\n",
              "      <td>NaN</td>\n",
              "      <td>NaN</td>\n",
              "      <td>NaN</td>\n",
              "      <td>NaN</td>\n",
              "      <td>490.0</td>\n",
              "      <td>7.0</td>\n",
              "      <td>NaN</td>\n",
              "      <td>NaN</td>\n",
              "      <td>NaN</td>\n",
              "      <td>...</td>\n",
              "      <td>zCkv</td>\n",
              "      <td>catzS2D</td>\n",
              "      <td>LM8l689qOp</td>\n",
              "      <td>NaN</td>\n",
              "      <td>kG3k</td>\n",
              "      <td>WqMG</td>\n",
              "      <td>ZI9m</td>\n",
              "      <td>ib5G6X1eUxUn6</td>\n",
              "      <td>mj86</td>\n",
              "      <td>NaN</td>\n",
              "    </tr>\n",
              "    <tr>\n",
              "      <th>11</th>\n",
              "      <td>NaN</td>\n",
              "      <td>NaN</td>\n",
              "      <td>NaN</td>\n",
              "      <td>NaN</td>\n",
              "      <td>NaN</td>\n",
              "      <td>798.0</td>\n",
              "      <td>14.0</td>\n",
              "      <td>NaN</td>\n",
              "      <td>NaN</td>\n",
              "      <td>NaN</td>\n",
              "      <td>...</td>\n",
              "      <td>oslk</td>\n",
              "      <td>VWtIBQt</td>\n",
              "      <td>LM8l689qOp</td>\n",
              "      <td>NaN</td>\n",
              "      <td>kG3k</td>\n",
              "      <td>FSa2</td>\n",
              "      <td>RAYp</td>\n",
              "      <td>F2FyR07IdsN7I</td>\n",
              "      <td>NaN</td>\n",
              "      <td>NaN</td>\n",
              "    </tr>\n",
              "    <tr>\n",
              "      <th>12</th>\n",
              "      <td>NaN</td>\n",
              "      <td>NaN</td>\n",
              "      <td>NaN</td>\n",
              "      <td>NaN</td>\n",
              "      <td>NaN</td>\n",
              "      <td>595.0</td>\n",
              "      <td>0.0</td>\n",
              "      <td>NaN</td>\n",
              "      <td>NaN</td>\n",
              "      <td>NaN</td>\n",
              "      <td>...</td>\n",
              "      <td>zCkv</td>\n",
              "      <td>WfsWw2A</td>\n",
              "      <td>LM8l689qOp</td>\n",
              "      <td>NaN</td>\n",
              "      <td>NaN</td>\n",
              "      <td>me1d</td>\n",
              "      <td>ZI9m</td>\n",
              "      <td>iyHGyLCEkQ</td>\n",
              "      <td>mj86</td>\n",
              "      <td>NaN</td>\n",
              "    </tr>\n",
              "    <tr>\n",
              "      <th>13</th>\n",
              "      <td>NaN</td>\n",
              "      <td>NaN</td>\n",
              "      <td>NaN</td>\n",
              "      <td>NaN</td>\n",
              "      <td>NaN</td>\n",
              "      <td>2268.0</td>\n",
              "      <td>0.0</td>\n",
              "      <td>NaN</td>\n",
              "      <td>NaN</td>\n",
              "      <td>NaN</td>\n",
              "      <td>...</td>\n",
              "      <td>oslk</td>\n",
              "      <td>QKXEsaq</td>\n",
              "      <td>LM8l689qOp</td>\n",
              "      <td>NaN</td>\n",
              "      <td>xG3x</td>\n",
              "      <td>Qu4f</td>\n",
              "      <td>RAYp</td>\n",
              "      <td>F2FyR07IdsN7I</td>\n",
              "      <td>NaN</td>\n",
              "      <td>NaN</td>\n",
              "    </tr>\n",
              "    <tr>\n",
              "      <th>14</th>\n",
              "      <td>NaN</td>\n",
              "      <td>NaN</td>\n",
              "      <td>NaN</td>\n",
              "      <td>NaN</td>\n",
              "      <td>NaN</td>\n",
              "      <td>3633.0</td>\n",
              "      <td>7.0</td>\n",
              "      <td>NaN</td>\n",
              "      <td>NaN</td>\n",
              "      <td>NaN</td>\n",
              "      <td>...</td>\n",
              "      <td>oslk</td>\n",
              "      <td>kYwEsaq</td>\n",
              "      <td>LM8l689qOp</td>\n",
              "      <td>NaN</td>\n",
              "      <td>NaN</td>\n",
              "      <td>PM2D</td>\n",
              "      <td>RAYp</td>\n",
              "      <td>F2FyR07IdsN7I</td>\n",
              "      <td>NaN</td>\n",
              "      <td>NaN</td>\n",
              "    </tr>\n",
              "    <tr>\n",
              "      <th>15</th>\n",
              "      <td>NaN</td>\n",
              "      <td>NaN</td>\n",
              "      <td>NaN</td>\n",
              "      <td>NaN</td>\n",
              "      <td>NaN</td>\n",
              "      <td>259.0</td>\n",
              "      <td>0.0</td>\n",
              "      <td>NaN</td>\n",
              "      <td>NaN</td>\n",
              "      <td>NaN</td>\n",
              "      <td>...</td>\n",
              "      <td>oslk</td>\n",
              "      <td>IIvQguc</td>\n",
              "      <td>LM8l689qOp</td>\n",
              "      <td>NaN</td>\n",
              "      <td>ELof</td>\n",
              "      <td>Qu4f</td>\n",
              "      <td>RAYp</td>\n",
              "      <td>55YFVY9</td>\n",
              "      <td>oJmt</td>\n",
              "      <td>NaN</td>\n",
              "    </tr>\n",
              "    <tr>\n",
              "      <th>16</th>\n",
              "      <td>NaN</td>\n",
              "      <td>NaN</td>\n",
              "      <td>NaN</td>\n",
              "      <td>NaN</td>\n",
              "      <td>NaN</td>\n",
              "      <td>5152.0</td>\n",
              "      <td>7.0</td>\n",
              "      <td>NaN</td>\n",
              "      <td>NaN</td>\n",
              "      <td>NaN</td>\n",
              "      <td>...</td>\n",
              "      <td>oslk</td>\n",
              "      <td>WfsWw2A</td>\n",
              "      <td>jySVZNlOJy</td>\n",
              "      <td>NaN</td>\n",
              "      <td>kG3k</td>\n",
              "      <td>FSa2</td>\n",
              "      <td>ZI9m</td>\n",
              "      <td>iyHGyLCEkQ</td>\n",
              "      <td>am7c</td>\n",
              "      <td>NaN</td>\n",
              "    </tr>\n",
              "    <tr>\n",
              "      <th>17</th>\n",
              "      <td>NaN</td>\n",
              "      <td>NaN</td>\n",
              "      <td>NaN</td>\n",
              "      <td>NaN</td>\n",
              "      <td>NaN</td>\n",
              "      <td>1449.0</td>\n",
              "      <td>7.0</td>\n",
              "      <td>NaN</td>\n",
              "      <td>NaN</td>\n",
              "      <td>NaN</td>\n",
              "      <td>...</td>\n",
              "      <td>QKW8DRm</td>\n",
              "      <td>catzS2D</td>\n",
              "      <td>LM8l689qOp</td>\n",
              "      <td>NaN</td>\n",
              "      <td>NaN</td>\n",
              "      <td>WqMG</td>\n",
              "      <td>ZI9m</td>\n",
              "      <td>ib5G6X1eUxUn6</td>\n",
              "      <td>am7c</td>\n",
              "      <td>NaN</td>\n",
              "    </tr>\n",
              "    <tr>\n",
              "      <th>18</th>\n",
              "      <td>NaN</td>\n",
              "      <td>NaN</td>\n",
              "      <td>NaN</td>\n",
              "      <td>NaN</td>\n",
              "      <td>NaN</td>\n",
              "      <td>574.0</td>\n",
              "      <td>7.0</td>\n",
              "      <td>NaN</td>\n",
              "      <td>NaN</td>\n",
              "      <td>NaN</td>\n",
              "      <td>...</td>\n",
              "      <td>oslk</td>\n",
              "      <td>DQ3iZDY</td>\n",
              "      <td>jySVZNlOJy</td>\n",
              "      <td>NaN</td>\n",
              "      <td>kG3k</td>\n",
              "      <td>FSa2</td>\n",
              "      <td>RAYp</td>\n",
              "      <td>F2FyR07IdsN7I</td>\n",
              "      <td>NaN</td>\n",
              "      <td>NaN</td>\n",
              "    </tr>\n",
              "    <tr>\n",
              "      <th>19</th>\n",
              "      <td>NaN</td>\n",
              "      <td>NaN</td>\n",
              "      <td>NaN</td>\n",
              "      <td>NaN</td>\n",
              "      <td>NaN</td>\n",
              "      <td>658.0</td>\n",
              "      <td>7.0</td>\n",
              "      <td>NaN</td>\n",
              "      <td>NaN</td>\n",
              "      <td>NaN</td>\n",
              "      <td>...</td>\n",
              "      <td>oslk</td>\n",
              "      <td>VQZzrB7</td>\n",
              "      <td>LM8l689qOp</td>\n",
              "      <td>NaN</td>\n",
              "      <td>NaN</td>\n",
              "      <td>5Acm</td>\n",
              "      <td>RAYp</td>\n",
              "      <td>F2FyR07IdsN7I</td>\n",
              "      <td>NaN</td>\n",
              "      <td>NaN</td>\n",
              "    </tr>\n",
              "  </tbody>\n",
              "</table>\n",
              "<p>20 rows × 230 columns</p>\n",
              "</div>"
            ],
            "text/plain": [
              "    Var1  Var2  Var3  Var4  Var5    Var6  Var7  Var8  Var9  Var10   ...    \\\n",
              "0    NaN   NaN   NaN   NaN   NaN  1526.0   7.0   NaN   NaN    NaN   ...     \n",
              "1    NaN   NaN   NaN   NaN   NaN   525.0   0.0   NaN   NaN    NaN   ...     \n",
              "2    NaN   NaN   NaN   NaN   NaN  5236.0   7.0   NaN   NaN    NaN   ...     \n",
              "3    NaN   NaN   NaN   NaN   NaN     NaN   0.0   NaN   NaN    NaN   ...     \n",
              "4    NaN   NaN   NaN   NaN   NaN  1029.0   7.0   NaN   NaN    NaN   ...     \n",
              "5    NaN   NaN   NaN   NaN   NaN   658.0   7.0   NaN   NaN    NaN   ...     \n",
              "6    NaN   NaN   NaN   NaN   NaN  1680.0   7.0   NaN   NaN    NaN   ...     \n",
              "7    NaN   NaN   NaN   NaN   NaN    77.0   0.0   NaN   NaN    NaN   ...     \n",
              "8    NaN   NaN   NaN   NaN   NaN  1176.0   7.0   NaN   NaN    NaN   ...     \n",
              "9    NaN   NaN   NaN   NaN   NaN  1141.0   7.0   NaN   NaN    NaN   ...     \n",
              "10   NaN   NaN   NaN   NaN   NaN   490.0   7.0   NaN   NaN    NaN   ...     \n",
              "11   NaN   NaN   NaN   NaN   NaN   798.0  14.0   NaN   NaN    NaN   ...     \n",
              "12   NaN   NaN   NaN   NaN   NaN   595.0   0.0   NaN   NaN    NaN   ...     \n",
              "13   NaN   NaN   NaN   NaN   NaN  2268.0   0.0   NaN   NaN    NaN   ...     \n",
              "14   NaN   NaN   NaN   NaN   NaN  3633.0   7.0   NaN   NaN    NaN   ...     \n",
              "15   NaN   NaN   NaN   NaN   NaN   259.0   0.0   NaN   NaN    NaN   ...     \n",
              "16   NaN   NaN   NaN   NaN   NaN  5152.0   7.0   NaN   NaN    NaN   ...     \n",
              "17   NaN   NaN   NaN   NaN   NaN  1449.0   7.0   NaN   NaN    NaN   ...     \n",
              "18   NaN   NaN   NaN   NaN   NaN   574.0   7.0   NaN   NaN    NaN   ...     \n",
              "19   NaN   NaN   NaN   NaN   NaN   658.0   7.0   NaN   NaN    NaN   ...     \n",
              "\n",
              "     Var221   Var222      Var223  Var224  Var225  Var226   Var227  \\\n",
              "0      oslk  fXVEsaq  jySVZNlOJy     NaN     NaN    xb3V     RAYp   \n",
              "1      oslk  2Kb5FSF  LM8l689qOp     NaN     NaN    fKCe     RAYp   \n",
              "2   Al6ZaUT  NKv4yOc  jySVZNlOJy     NaN    kG3k    Qu4f  02N6s8f   \n",
              "3      oslk  CE7uk3u  LM8l689qOp     NaN     NaN    FSa2     RAYp   \n",
              "4      oslk  1J2cvxe  LM8l689qOp     NaN    kG3k    FSa2     RAYp   \n",
              "5      zCkv  QqVuch3  LM8l689qOp     NaN     NaN    Qcbd  02N6s8f   \n",
              "6      oslk  XlgxB9z  LM8l689qOp     NaN    kG3k    FSa2     RAYp   \n",
              "7      oslk  R2LdzOv         NaN     NaN     NaN    FSa2     RAYp   \n",
              "8      zCkv  K2SqEo9  jySVZNlOJy     NaN    kG3k    PM2D     6fzt   \n",
              "9      oslk  EPqQcw6  LM8l689qOp     NaN    kG3k    FSa2     RAYp   \n",
              "10     zCkv  catzS2D  LM8l689qOp     NaN    kG3k    WqMG     ZI9m   \n",
              "11     oslk  VWtIBQt  LM8l689qOp     NaN    kG3k    FSa2     RAYp   \n",
              "12     zCkv  WfsWw2A  LM8l689qOp     NaN     NaN    me1d     ZI9m   \n",
              "13     oslk  QKXEsaq  LM8l689qOp     NaN    xG3x    Qu4f     RAYp   \n",
              "14     oslk  kYwEsaq  LM8l689qOp     NaN     NaN    PM2D     RAYp   \n",
              "15     oslk  IIvQguc  LM8l689qOp     NaN    ELof    Qu4f     RAYp   \n",
              "16     oslk  WfsWw2A  jySVZNlOJy     NaN    kG3k    FSa2     ZI9m   \n",
              "17  QKW8DRm  catzS2D  LM8l689qOp     NaN     NaN    WqMG     ZI9m   \n",
              "18     oslk  DQ3iZDY  jySVZNlOJy     NaN    kG3k    FSa2     RAYp   \n",
              "19     oslk  VQZzrB7  LM8l689qOp     NaN     NaN    5Acm     RAYp   \n",
              "\n",
              "                    Var228  Var229  Var230  \n",
              "0            F2FyR07IdsN7I     NaN     NaN  \n",
              "1            F2FyR07IdsN7I     NaN     NaN  \n",
              "2            ib5G6X1eUxUn6    am7c     NaN  \n",
              "3            F2FyR07IdsN7I     NaN     NaN  \n",
              "4            F2FyR07IdsN7I    mj86     NaN  \n",
              "5                  Zy3gnGM    am7c     NaN  \n",
              "6                  55YFVY9    am7c     NaN  \n",
              "7            F2FyR07IdsN7I     NaN     NaN  \n",
              "8   am14IcfM7tWLrUmRT52KtA    am7c     NaN  \n",
              "9                  55YFVY9     NaN     NaN  \n",
              "10           ib5G6X1eUxUn6    mj86     NaN  \n",
              "11           F2FyR07IdsN7I     NaN     NaN  \n",
              "12              iyHGyLCEkQ    mj86     NaN  \n",
              "13           F2FyR07IdsN7I     NaN     NaN  \n",
              "14           F2FyR07IdsN7I     NaN     NaN  \n",
              "15                 55YFVY9    oJmt     NaN  \n",
              "16              iyHGyLCEkQ    am7c     NaN  \n",
              "17           ib5G6X1eUxUn6    am7c     NaN  \n",
              "18           F2FyR07IdsN7I     NaN     NaN  \n",
              "19           F2FyR07IdsN7I     NaN     NaN  \n",
              "\n",
              "[20 rows x 230 columns]"
            ]
          },
          "metadata": {
            "tags": []
          },
          "execution_count": 11
        }
      ]
    },
    {
      "metadata": {
        "id": "uNX-VeD1EqKK",
        "colab_type": "code",
        "colab": {
          "base_uri": "https://localhost:8080/",
          "height": 233
        },
        "outputId": "d746eb64-1e1e-49c3-daf4-9c294d2e1d4f"
      },
      "cell_type": "code",
      "source": [
        "test = pd.read_table('orange_small_test.data')\n",
        "test.head()"
      ],
      "execution_count": 12,
      "outputs": [
        {
          "output_type": "execute_result",
          "data": {
            "text/html": [
              "<div>\n",
              "<style scoped>\n",
              "    .dataframe tbody tr th:only-of-type {\n",
              "        vertical-align: middle;\n",
              "    }\n",
              "\n",
              "    .dataframe tbody tr th {\n",
              "        vertical-align: top;\n",
              "    }\n",
              "\n",
              "    .dataframe thead th {\n",
              "        text-align: right;\n",
              "    }\n",
              "</style>\n",
              "<table border=\"1\" class=\"dataframe\">\n",
              "  <thead>\n",
              "    <tr style=\"text-align: right;\">\n",
              "      <th></th>\n",
              "      <th>Var1</th>\n",
              "      <th>Var2</th>\n",
              "      <th>Var3</th>\n",
              "      <th>Var4</th>\n",
              "      <th>Var5</th>\n",
              "      <th>Var6</th>\n",
              "      <th>Var7</th>\n",
              "      <th>Var8</th>\n",
              "      <th>Var9</th>\n",
              "      <th>Var10</th>\n",
              "      <th>...</th>\n",
              "      <th>Var221</th>\n",
              "      <th>Var222</th>\n",
              "      <th>Var223</th>\n",
              "      <th>Var224</th>\n",
              "      <th>Var225</th>\n",
              "      <th>Var226</th>\n",
              "      <th>Var227</th>\n",
              "      <th>Var228</th>\n",
              "      <th>Var229</th>\n",
              "      <th>Var230</th>\n",
              "    </tr>\n",
              "  </thead>\n",
              "  <tbody>\n",
              "    <tr>\n",
              "      <th>0</th>\n",
              "      <td>NaN</td>\n",
              "      <td>NaN</td>\n",
              "      <td>NaN</td>\n",
              "      <td>NaN</td>\n",
              "      <td>NaN</td>\n",
              "      <td>1225.0</td>\n",
              "      <td>7.0</td>\n",
              "      <td>NaN</td>\n",
              "      <td>NaN</td>\n",
              "      <td>NaN</td>\n",
              "      <td>...</td>\n",
              "      <td>Al6ZaUT</td>\n",
              "      <td>P6pu4Vl</td>\n",
              "      <td>LM8l689qOp</td>\n",
              "      <td>NaN</td>\n",
              "      <td>ELof</td>\n",
              "      <td>7P5s</td>\n",
              "      <td>ZI9m</td>\n",
              "      <td>R4y5gQQWY8OodqDV</td>\n",
              "      <td>NaN</td>\n",
              "      <td>NaN</td>\n",
              "    </tr>\n",
              "    <tr>\n",
              "      <th>1</th>\n",
              "      <td>NaN</td>\n",
              "      <td>NaN</td>\n",
              "      <td>NaN</td>\n",
              "      <td>NaN</td>\n",
              "      <td>NaN</td>\n",
              "      <td>259.0</td>\n",
              "      <td>0.0</td>\n",
              "      <td>NaN</td>\n",
              "      <td>NaN</td>\n",
              "      <td>NaN</td>\n",
              "      <td>...</td>\n",
              "      <td>oslk</td>\n",
              "      <td>S46Rt72</td>\n",
              "      <td>LM8l689qOp</td>\n",
              "      <td>NaN</td>\n",
              "      <td>NaN</td>\n",
              "      <td>Qu4f</td>\n",
              "      <td>RAYp</td>\n",
              "      <td>F2FyR07IdsN7I</td>\n",
              "      <td>NaN</td>\n",
              "      <td>NaN</td>\n",
              "    </tr>\n",
              "    <tr>\n",
              "      <th>2</th>\n",
              "      <td>NaN</td>\n",
              "      <td>NaN</td>\n",
              "      <td>NaN</td>\n",
              "      <td>NaN</td>\n",
              "      <td>NaN</td>\n",
              "      <td>861.0</td>\n",
              "      <td>14.0</td>\n",
              "      <td>NaN</td>\n",
              "      <td>NaN</td>\n",
              "      <td>NaN</td>\n",
              "      <td>...</td>\n",
              "      <td>oslk</td>\n",
              "      <td>CcdTy9x</td>\n",
              "      <td>LM8l689qOp</td>\n",
              "      <td>NaN</td>\n",
              "      <td>NaN</td>\n",
              "      <td>7aLG</td>\n",
              "      <td>RAYp</td>\n",
              "      <td>F2FyR07IdsN7I</td>\n",
              "      <td>NaN</td>\n",
              "      <td>NaN</td>\n",
              "    </tr>\n",
              "    <tr>\n",
              "      <th>3</th>\n",
              "      <td>NaN</td>\n",
              "      <td>NaN</td>\n",
              "      <td>NaN</td>\n",
              "      <td>NaN</td>\n",
              "      <td>NaN</td>\n",
              "      <td>1568.0</td>\n",
              "      <td>7.0</td>\n",
              "      <td>NaN</td>\n",
              "      <td>NaN</td>\n",
              "      <td>NaN</td>\n",
              "      <td>...</td>\n",
              "      <td>oslk</td>\n",
              "      <td>Q53Rkup</td>\n",
              "      <td>LM8l689qOp</td>\n",
              "      <td>NaN</td>\n",
              "      <td>kG3k</td>\n",
              "      <td>7P5s</td>\n",
              "      <td>RAYp</td>\n",
              "      <td>TCU50_Yjmm6GIBZ0lL_</td>\n",
              "      <td>am7c</td>\n",
              "      <td>NaN</td>\n",
              "    </tr>\n",
              "    <tr>\n",
              "      <th>4</th>\n",
              "      <td>NaN</td>\n",
              "      <td>NaN</td>\n",
              "      <td>NaN</td>\n",
              "      <td>NaN</td>\n",
              "      <td>NaN</td>\n",
              "      <td>1197.0</td>\n",
              "      <td>7.0</td>\n",
              "      <td>NaN</td>\n",
              "      <td>NaN</td>\n",
              "      <td>NaN</td>\n",
              "      <td>...</td>\n",
              "      <td>Al6ZaUT</td>\n",
              "      <td>WfsWw2A</td>\n",
              "      <td>LM8l689qOp</td>\n",
              "      <td>NaN</td>\n",
              "      <td>ELof</td>\n",
              "      <td>5Acm</td>\n",
              "      <td>ZI9m</td>\n",
              "      <td>iyHGyLCEkQ</td>\n",
              "      <td>am7c</td>\n",
              "      <td>NaN</td>\n",
              "    </tr>\n",
              "  </tbody>\n",
              "</table>\n",
              "<p>5 rows × 230 columns</p>\n",
              "</div>"
            ],
            "text/plain": [
              "   Var1  Var2  Var3  Var4  Var5    Var6  Var7  Var8  Var9  Var10   ...    \\\n",
              "0   NaN   NaN   NaN   NaN   NaN  1225.0   7.0   NaN   NaN    NaN   ...     \n",
              "1   NaN   NaN   NaN   NaN   NaN   259.0   0.0   NaN   NaN    NaN   ...     \n",
              "2   NaN   NaN   NaN   NaN   NaN   861.0  14.0   NaN   NaN    NaN   ...     \n",
              "3   NaN   NaN   NaN   NaN   NaN  1568.0   7.0   NaN   NaN    NaN   ...     \n",
              "4   NaN   NaN   NaN   NaN   NaN  1197.0   7.0   NaN   NaN    NaN   ...     \n",
              "\n",
              "    Var221   Var222      Var223  Var224  Var225  Var226  Var227  \\\n",
              "0  Al6ZaUT  P6pu4Vl  LM8l689qOp     NaN    ELof    7P5s    ZI9m   \n",
              "1     oslk  S46Rt72  LM8l689qOp     NaN     NaN    Qu4f    RAYp   \n",
              "2     oslk  CcdTy9x  LM8l689qOp     NaN     NaN    7aLG    RAYp   \n",
              "3     oslk  Q53Rkup  LM8l689qOp     NaN    kG3k    7P5s    RAYp   \n",
              "4  Al6ZaUT  WfsWw2A  LM8l689qOp     NaN    ELof    5Acm    ZI9m   \n",
              "\n",
              "                Var228  Var229  Var230  \n",
              "0     R4y5gQQWY8OodqDV     NaN     NaN  \n",
              "1        F2FyR07IdsN7I     NaN     NaN  \n",
              "2        F2FyR07IdsN7I     NaN     NaN  \n",
              "3  TCU50_Yjmm6GIBZ0lL_    am7c     NaN  \n",
              "4           iyHGyLCEkQ    am7c     NaN  \n",
              "\n",
              "[5 rows x 230 columns]"
            ]
          },
          "metadata": {
            "tags": []
          },
          "execution_count": 12
        }
      ]
    },
    {
      "metadata": {
        "id": "u-EAk_6zExRS",
        "colab_type": "code",
        "colab": {}
      },
      "cell_type": "code",
      "source": [
        "appetency = pd.read_table('orange_small_train_appetency.labels', header = None).loc[:, 0].astype('category')"
      ],
      "execution_count": 0,
      "outputs": []
    },
    {
      "metadata": {
        "id": "Fb4sc_buGMt3",
        "colab_type": "code",
        "colab": {}
      },
      "cell_type": "code",
      "source": [
        "churn = pd.read_table('orange_small_train_churn.labels', header = None).loc[:, 0].astype('category')"
      ],
      "execution_count": 0,
      "outputs": []
    },
    {
      "metadata": {
        "id": "7kAPUPlKfiSZ",
        "colab_type": "code",
        "colab": {}
      },
      "cell_type": "code",
      "source": [
        "upselling= pd.read_table('orange_small_train_upselling.labels', header = None).loc[:, 0].astype('category')"
      ],
      "execution_count": 0,
      "outputs": []
    },
    {
      "metadata": {
        "id": "mpBfKyt1f63I",
        "colab_type": "text"
      },
      "cell_type": "markdown",
      "source": [
        "# Preprocesing"
      ]
    },
    {
      "metadata": {
        "id": "0BuiGMu-gRnX",
        "colab_type": "code",
        "colab": {
          "base_uri": "https://localhost:8080/",
          "height": 346
        },
        "outputId": "2e7ae52e-97ed-403a-f1b3-1a10718106ec"
      },
      "cell_type": "code",
      "source": [
        "#Dataset Analysis\n",
        "train.describe()"
      ],
      "execution_count": 38,
      "outputs": [
        {
          "output_type": "execute_result",
          "data": {
            "text/html": [
              "<div>\n",
              "<style scoped>\n",
              "    .dataframe tbody tr th:only-of-type {\n",
              "        vertical-align: middle;\n",
              "    }\n",
              "\n",
              "    .dataframe tbody tr th {\n",
              "        vertical-align: top;\n",
              "    }\n",
              "\n",
              "    .dataframe thead th {\n",
              "        text-align: right;\n",
              "    }\n",
              "</style>\n",
              "<table border=\"1\" class=\"dataframe\">\n",
              "  <thead>\n",
              "    <tr style=\"text-align: right;\">\n",
              "      <th></th>\n",
              "      <th>Var1</th>\n",
              "      <th>Var2</th>\n",
              "      <th>Var3</th>\n",
              "      <th>Var4</th>\n",
              "      <th>Var5</th>\n",
              "      <th>Var6</th>\n",
              "      <th>Var7</th>\n",
              "      <th>Var8</th>\n",
              "      <th>Var9</th>\n",
              "      <th>Var10</th>\n",
              "      <th>...</th>\n",
              "      <th>Var183</th>\n",
              "      <th>Var184</th>\n",
              "      <th>Var185</th>\n",
              "      <th>Var186</th>\n",
              "      <th>Var187</th>\n",
              "      <th>Var188</th>\n",
              "      <th>Var189</th>\n",
              "      <th>Var190</th>\n",
              "      <th>Var209</th>\n",
              "      <th>Var230</th>\n",
              "    </tr>\n",
              "  </thead>\n",
              "  <tbody>\n",
              "    <tr>\n",
              "      <th>count</th>\n",
              "      <td>702.000000</td>\n",
              "      <td>1241.000000</td>\n",
              "      <td>1240.000000</td>\n",
              "      <td>1579.000000</td>\n",
              "      <td>1.487000e+03</td>\n",
              "      <td>44471.000000</td>\n",
              "      <td>44461.000000</td>\n",
              "      <td>0.0</td>\n",
              "      <td>702.000000</td>\n",
              "      <td>1.487000e+03</td>\n",
              "      <td>...</td>\n",
              "      <td>1.241000e+03</td>\n",
              "      <td>1241.000000</td>\n",
              "      <td>0.0</td>\n",
              "      <td>702.000000</td>\n",
              "      <td>702.00000</td>\n",
              "      <td>1241.000000</td>\n",
              "      <td>21022.000000</td>\n",
              "      <td>333.000000</td>\n",
              "      <td>0.0</td>\n",
              "      <td>0.0</td>\n",
              "    </tr>\n",
              "    <tr>\n",
              "      <th>mean</th>\n",
              "      <td>11.487179</td>\n",
              "      <td>0.004029</td>\n",
              "      <td>425.298387</td>\n",
              "      <td>0.125396</td>\n",
              "      <td>2.387933e+05</td>\n",
              "      <td>1326.437116</td>\n",
              "      <td>6.809496</td>\n",
              "      <td>NaN</td>\n",
              "      <td>48.145299</td>\n",
              "      <td>3.926057e+05</td>\n",
              "      <td>...</td>\n",
              "      <td>7.777380e+04</td>\n",
              "      <td>8.460919</td>\n",
              "      <td>NaN</td>\n",
              "      <td>3.299145</td>\n",
              "      <td>16.54416</td>\n",
              "      <td>167.368477</td>\n",
              "      <td>270.142137</td>\n",
              "      <td>22007.045192</td>\n",
              "      <td>NaN</td>\n",
              "      <td>NaN</td>\n",
              "    </tr>\n",
              "    <tr>\n",
              "      <th>std</th>\n",
              "      <td>40.709951</td>\n",
              "      <td>0.141933</td>\n",
              "      <td>4270.193518</td>\n",
              "      <td>1.275481</td>\n",
              "      <td>6.441259e+05</td>\n",
              "      <td>2685.693668</td>\n",
              "      <td>6.326053</td>\n",
              "      <td>NaN</td>\n",
              "      <td>154.777855</td>\n",
              "      <td>9.280896e+05</td>\n",
              "      <td>...</td>\n",
              "      <td>2.016188e+05</td>\n",
              "      <td>46.973777</td>\n",
              "      <td>NaN</td>\n",
              "      <td>8.781967</td>\n",
              "      <td>60.22303</td>\n",
              "      <td>113.980072</td>\n",
              "      <td>86.707692</td>\n",
              "      <td>29085.146490</td>\n",
              "      <td>NaN</td>\n",
              "      <td>NaN</td>\n",
              "    </tr>\n",
              "    <tr>\n",
              "      <th>min</th>\n",
              "      <td>0.000000</td>\n",
              "      <td>0.000000</td>\n",
              "      <td>0.000000</td>\n",
              "      <td>0.000000</td>\n",
              "      <td>0.000000e+00</td>\n",
              "      <td>0.000000</td>\n",
              "      <td>0.000000</td>\n",
              "      <td>NaN</td>\n",
              "      <td>0.000000</td>\n",
              "      <td>0.000000e+00</td>\n",
              "      <td>...</td>\n",
              "      <td>0.000000e+00</td>\n",
              "      <td>0.000000</td>\n",
              "      <td>NaN</td>\n",
              "      <td>0.000000</td>\n",
              "      <td>0.00000</td>\n",
              "      <td>-6.420000</td>\n",
              "      <td>6.000000</td>\n",
              "      <td>0.000000</td>\n",
              "      <td>NaN</td>\n",
              "      <td>NaN</td>\n",
              "    </tr>\n",
              "    <tr>\n",
              "      <th>25%</th>\n",
              "      <td>0.000000</td>\n",
              "      <td>0.000000</td>\n",
              "      <td>0.000000</td>\n",
              "      <td>0.000000</td>\n",
              "      <td>0.000000e+00</td>\n",
              "      <td>518.000000</td>\n",
              "      <td>0.000000</td>\n",
              "      <td>NaN</td>\n",
              "      <td>4.000000</td>\n",
              "      <td>0.000000e+00</td>\n",
              "      <td>...</td>\n",
              "      <td>0.000000e+00</td>\n",
              "      <td>0.000000</td>\n",
              "      <td>NaN</td>\n",
              "      <td>0.000000</td>\n",
              "      <td>0.00000</td>\n",
              "      <td>19.380000</td>\n",
              "      <td>204.000000</td>\n",
              "      <td>2732.670000</td>\n",
              "      <td>NaN</td>\n",
              "      <td>NaN</td>\n",
              "    </tr>\n",
              "    <tr>\n",
              "      <th>50%</th>\n",
              "      <td>0.000000</td>\n",
              "      <td>0.000000</td>\n",
              "      <td>0.000000</td>\n",
              "      <td>0.000000</td>\n",
              "      <td>0.000000e+00</td>\n",
              "      <td>861.000000</td>\n",
              "      <td>7.000000</td>\n",
              "      <td>NaN</td>\n",
              "      <td>20.000000</td>\n",
              "      <td>0.000000e+00</td>\n",
              "      <td>...</td>\n",
              "      <td>0.000000e+00</td>\n",
              "      <td>0.000000</td>\n",
              "      <td>NaN</td>\n",
              "      <td>0.000000</td>\n",
              "      <td>4.00000</td>\n",
              "      <td>197.640000</td>\n",
              "      <td>270.000000</td>\n",
              "      <td>12668.940000</td>\n",
              "      <td>NaN</td>\n",
              "      <td>NaN</td>\n",
              "    </tr>\n",
              "    <tr>\n",
              "      <th>75%</th>\n",
              "      <td>16.000000</td>\n",
              "      <td>0.000000</td>\n",
              "      <td>0.000000</td>\n",
              "      <td>0.000000</td>\n",
              "      <td>1.187425e+05</td>\n",
              "      <td>1428.000000</td>\n",
              "      <td>7.000000</td>\n",
              "      <td>NaN</td>\n",
              "      <td>46.000000</td>\n",
              "      <td>2.628630e+05</td>\n",
              "      <td>...</td>\n",
              "      <td>4.881000e+04</td>\n",
              "      <td>8.000000</td>\n",
              "      <td>NaN</td>\n",
              "      <td>6.000000</td>\n",
              "      <td>14.00000</td>\n",
              "      <td>252.960000</td>\n",
              "      <td>330.000000</td>\n",
              "      <td>29396.340000</td>\n",
              "      <td>NaN</td>\n",
              "      <td>NaN</td>\n",
              "    </tr>\n",
              "    <tr>\n",
              "      <th>max</th>\n",
              "      <td>680.000000</td>\n",
              "      <td>5.000000</td>\n",
              "      <td>130668.000000</td>\n",
              "      <td>27.000000</td>\n",
              "      <td>6.048550e+06</td>\n",
              "      <td>131761.000000</td>\n",
              "      <td>140.000000</td>\n",
              "      <td>NaN</td>\n",
              "      <td>2300.000000</td>\n",
              "      <td>1.232559e+07</td>\n",
              "      <td>...</td>\n",
              "      <td>3.048400e+06</td>\n",
              "      <td>1200.000000</td>\n",
              "      <td>NaN</td>\n",
              "      <td>102.000000</td>\n",
              "      <td>910.00000</td>\n",
              "      <td>628.620000</td>\n",
              "      <td>642.000000</td>\n",
              "      <td>230427.000000</td>\n",
              "      <td>NaN</td>\n",
              "      <td>NaN</td>\n",
              "    </tr>\n",
              "  </tbody>\n",
              "</table>\n",
              "<p>8 rows × 192 columns</p>\n",
              "</div>"
            ],
            "text/plain": [
              "             Var1         Var2           Var3         Var4          Var5  \\\n",
              "count  702.000000  1241.000000    1240.000000  1579.000000  1.487000e+03   \n",
              "mean    11.487179     0.004029     425.298387     0.125396  2.387933e+05   \n",
              "std     40.709951     0.141933    4270.193518     1.275481  6.441259e+05   \n",
              "min      0.000000     0.000000       0.000000     0.000000  0.000000e+00   \n",
              "25%      0.000000     0.000000       0.000000     0.000000  0.000000e+00   \n",
              "50%      0.000000     0.000000       0.000000     0.000000  0.000000e+00   \n",
              "75%     16.000000     0.000000       0.000000     0.000000  1.187425e+05   \n",
              "max    680.000000     5.000000  130668.000000    27.000000  6.048550e+06   \n",
              "\n",
              "                Var6          Var7  Var8         Var9         Var10   ...    \\\n",
              "count   44471.000000  44461.000000   0.0   702.000000  1.487000e+03   ...     \n",
              "mean     1326.437116      6.809496   NaN    48.145299  3.926057e+05   ...     \n",
              "std      2685.693668      6.326053   NaN   154.777855  9.280896e+05   ...     \n",
              "min         0.000000      0.000000   NaN     0.000000  0.000000e+00   ...     \n",
              "25%       518.000000      0.000000   NaN     4.000000  0.000000e+00   ...     \n",
              "50%       861.000000      7.000000   NaN    20.000000  0.000000e+00   ...     \n",
              "75%      1428.000000      7.000000   NaN    46.000000  2.628630e+05   ...     \n",
              "max    131761.000000    140.000000   NaN  2300.000000  1.232559e+07   ...     \n",
              "\n",
              "             Var183       Var184  Var185      Var186     Var187       Var188  \\\n",
              "count  1.241000e+03  1241.000000     0.0  702.000000  702.00000  1241.000000   \n",
              "mean   7.777380e+04     8.460919     NaN    3.299145   16.54416   167.368477   \n",
              "std    2.016188e+05    46.973777     NaN    8.781967   60.22303   113.980072   \n",
              "min    0.000000e+00     0.000000     NaN    0.000000    0.00000    -6.420000   \n",
              "25%    0.000000e+00     0.000000     NaN    0.000000    0.00000    19.380000   \n",
              "50%    0.000000e+00     0.000000     NaN    0.000000    4.00000   197.640000   \n",
              "75%    4.881000e+04     8.000000     NaN    6.000000   14.00000   252.960000   \n",
              "max    3.048400e+06  1200.000000     NaN  102.000000  910.00000   628.620000   \n",
              "\n",
              "             Var189         Var190  Var209  Var230  \n",
              "count  21022.000000     333.000000     0.0     0.0  \n",
              "mean     270.142137   22007.045192     NaN     NaN  \n",
              "std       86.707692   29085.146490     NaN     NaN  \n",
              "min        6.000000       0.000000     NaN     NaN  \n",
              "25%      204.000000    2732.670000     NaN     NaN  \n",
              "50%      270.000000   12668.940000     NaN     NaN  \n",
              "75%      330.000000   29396.340000     NaN     NaN  \n",
              "max      642.000000  230427.000000     NaN     NaN  \n",
              "\n",
              "[8 rows x 192 columns]"
            ]
          },
          "metadata": {
            "tags": []
          },
          "execution_count": 38
        }
      ]
    },
    {
      "metadata": {
        "id": "eh0UnIfmf6Ib",
        "colab_type": "code",
        "colab": {}
      },
      "cell_type": "code",
      "source": [
        "#Replacing NAN values by mean\n",
        "train = train.fillna(train.mean())"
      ],
      "execution_count": 0,
      "outputs": []
    },
    {
      "metadata": {
        "id": "85sFfaNyg2wr",
        "colab_type": "code",
        "colab": {}
      },
      "cell_type": "code",
      "source": [
        "#Removing non-numerical values\n",
        "droplist = []\n",
        "\n",
        "for i in range(train.shape[1]-40, train.shape[1]+1):\n",
        "    value = 0\n",
        "    value = 'Var{}'.format(i)\n",
        "    droplist.append(value)"
      ],
      "execution_count": 0,
      "outputs": []
    },
    {
      "metadata": {
        "id": "EZbIwj1vhsHK",
        "colab_type": "code",
        "colab": {}
      },
      "cell_type": "code",
      "source": [
        "train = train.drop(droplist,axis=1)\n",
        "train = train.fillna(0) "
      ],
      "execution_count": 0,
      "outputs": []
    },
    {
      "metadata": {
        "id": "Eez2Bn2YlG8u",
        "colab_type": "code",
        "colab": {}
      },
      "cell_type": "code",
      "source": [
        "#Changing labels to 0 or 1\n",
        "appetency = (appetency + 1)/2\n",
        "churn = (churn + 1)/2\n",
        "upselling = (upselling + 1)/2"
      ],
      "execution_count": 0,
      "outputs": []
    },
    {
      "metadata": {
        "id": "l7eROiCGtmHI",
        "colab_type": "code",
        "colab": {
          "base_uri": "https://localhost:8080/",
          "height": 170
        },
        "outputId": "bd28cb71-ffa8-42a0-f646-7c13bacce483"
      },
      "cell_type": "code",
      "source": [
        "appetency.describe()"
      ],
      "execution_count": 49,
      "outputs": [
        {
          "output_type": "execute_result",
          "data": {
            "text/plain": [
              "count    50000.000000\n",
              "mean         0.017800\n",
              "std          0.132225\n",
              "min          0.000000\n",
              "25%          0.000000\n",
              "50%          0.000000\n",
              "75%          0.000000\n",
              "max          1.000000\n",
              "Name: 0, dtype: float64"
            ]
          },
          "metadata": {
            "tags": []
          },
          "execution_count": 49
        }
      ]
    },
    {
      "metadata": {
        "id": "cjG6lccIuxys",
        "colab_type": "text"
      },
      "cell_type": "markdown",
      "source": [
        "The mean suggest a imbalanced category. Thus, we need to investigate.\n"
      ]
    },
    {
      "metadata": {
        "id": "orhx-R-mwEwa",
        "colab_type": "code",
        "colab": {}
      },
      "cell_type": "code",
      "source": [
        "import matplotlib.pyplot as plt\n",
        "%matplotlib inline"
      ],
      "execution_count": 0,
      "outputs": []
    },
    {
      "metadata": {
        "id": "3rpwrMDi3KHV",
        "colab_type": "code",
        "colab": {}
      },
      "cell_type": "code",
      "source": [
        "labels = pd.concat([appetency, churn, upselling],axis=1)\n",
        "labels.columns = ['appetency', 'churn', 'upselling']"
      ],
      "execution_count": 0,
      "outputs": []
    },
    {
      "metadata": {
        "id": "Y39c0PeCvAqB",
        "colab_type": "code",
        "colab": {
          "base_uri": "https://localhost:8080/",
          "height": 646
        },
        "outputId": "c68acffe-bff4-47b0-ac1e-dc4a44611179"
      },
      "cell_type": "code",
      "source": [
        "#Verifying balance\n",
        "fig = plt.figure(figsize=(30, 10))\n",
        "\n",
        "plt.subplot(131)\n",
        "ax0 = appetency.hist(bins=4)\n",
        "ax0.set_ylabel('{}'.format('Appetency'))\n",
        "\n",
        "plt.subplot(132)\n",
        "ax1= churn.hist(bins=4)\n",
        "ax1.set_ylabel('{}'.format('Churn'))               \n",
        "\n",
        "plt.subplot(133)\n",
        "ax2 = upselling.hist(bins=4)\n",
        "ax2.set_ylabel('{}'.format('Upselling'))\n",
        "\n",
        "plt.legend()"
      ],
      "execution_count": 54,
      "outputs": [
        {
          "output_type": "stream",
          "text": [
            "No handles with labels found to put in legend.\n"
          ],
          "name": "stderr"
        },
        {
          "output_type": "execute_result",
          "data": {
            "text/plain": [
              "<matplotlib.legend.Legend at 0x7f64fd6d7278>"
            ]
          },
          "metadata": {
            "tags": []
          },
          "execution_count": 54
        },
        {
          "output_type": "display_data",
          "data": {
            "image/png": "[encoded data removed]",
            "text/plain": [
              "<Figure size 2160x720 with 3 Axes>"
            ]
          },
          "metadata": {
            "tags": []
          }
        }
      ]
    },
    {
      "metadata": {
        "id": "SAaSskd4xat7",
        "colab_type": "text"
      },
      "cell_type": "markdown",
      "source": [
        "In the previous graphic, we see clear imbalance in all classes. Therefore, we can use resample as a workaround."
      ]
    },
    {
      "metadata": {
        "id": "FyYv-s0Izejs",
        "colab_type": "text"
      },
      "cell_type": "markdown",
      "source": [
        "# Building models"
      ]
    },
    {
      "metadata": {
        "id": "dRS5NvZV0Qws",
        "colab_type": "code",
        "colab": {}
      },
      "cell_type": "code",
      "source": [
        "RANDOM_SEED = 42 #reproductivity"
      ],
      "execution_count": 0,
      "outputs": []
    },
    {
      "metadata": {
        "id": "AjxucEAI4h-s",
        "colab_type": "code",
        "colab": {}
      },
      "cell_type": "code",
      "source": [
        "\n",
        "data = pd.concat([train,labels],axis=1)"
      ],
      "execution_count": 0,
      "outputs": []
    },
    {
      "metadata": {
        "id": "cAwb06oS65Pl",
        "colab_type": "code",
        "colab": {}
      },
      "cell_type": "code",
      "source": [
        "\n",
        "import seaborn as sns"
      ],
      "execution_count": 0,
      "outputs": []
    },
    {
      "metadata": {
        "id": "bsmbzNh9zh0f",
        "colab_type": "text"
      },
      "cell_type": "markdown",
      "source": [
        "**Appetency**"
      ]
    },
    {
      "metadata": {
        "id": "82FzQssR17vv",
        "colab_type": "code",
        "colab": {}
      },
      "cell_type": "code",
      "source": [
        "from sklearn.model_selection import train_test_split\n",
        "from sklearn.utils import resample\n",
        "from sklearn.model_selection import StratifiedKFold\n",
        "from sklearn.ensemble import RandomForestClassifier\n",
        "from sklearn import preprocessing\n",
        "from sklearn.metrics import (confusion_matrix, precision_recall_curve, auc,\n",
        "                             roc_curve, recall_score, classification_report, f1_score,\n",
        "                             precision_recall_fscore_support,roc_auc_score)"
      ],
      "execution_count": 0,
      "outputs": []
    },
    {
      "metadata": {
        "id": "2hkmFt1w6BpK",
        "colab_type": "code",
        "colab": {}
      },
      "cell_type": "code",
      "source": [
        "from sklearn.neural_network import MLPClassifier"
      ],
      "execution_count": 0,
      "outputs": []
    },
    {
      "metadata": {
        "id": "S3ZHqprhxeib",
        "colab_type": "code",
        "colab": {}
      },
      "cell_type": "code",
      "source": [
        "datatrain = data.drop(['churn','upselling'],axis=1)\n",
        "df_maj = datatrain[datatrain.appetency==0]\n",
        "df_min = datatrain[datatrain.appetency==1]\n",
        "df_maj.shape,df_min.shape \n",
        "# Upsample minority class\n",
        "df_min_upsampled = resample(df_min, \n",
        "                                replace=True,     # sample with replacement\n",
        "                                 n_samples=df_maj.shape[0],    # to match majority class\n",
        "                                 random_state=RANDOM_SEED) # reproducible results\n",
        "\n",
        "df_upsampled = pd.concat([df_maj, df_min_upsampled])\n",
        "df_X = df_upsampled.drop(['appetency'],axis=1)\n",
        "df_y = df_upsampled['appetency']\n",
        "\n",
        "\n",
        "X_train, X_test, y_train, y_test = train_test_split(df_X,df_y ,test_size=0.2, random_state=RANDOM_SEED)\n",
        "X_train = X_train.values\n",
        "X_test = X_test.values\n",
        "y_train = y_train\n",
        "y_test = y_test\n",
        "\n",
        "X_train = preprocessing.scale(X_train)\n",
        "X_test = preprocessing.scale(X_test)"
      ],
      "execution_count": 0,
      "outputs": []
    },
    {
      "metadata": {
        "id": "SIY05N6x1mXd",
        "colab_type": "code",
        "colab": {}
      },
      "cell_type": "code",
      "source": [
        "clf = MLPClassifier(hidden_layer_sizes=(128,64,32,16,8),learning_rate_init = 0.01, max_iter = 500)"
      ],
      "execution_count": 0,
      "outputs": []
    },
    {
      "metadata": {
        "id": "mc6VkU326bCw",
        "colab_type": "code",
        "colab": {}
      },
      "cell_type": "code",
      "source": [
        "clf.fit(X_train, y_train)\n",
        "predictions = clf.predict(X_test)"
      ],
      "execution_count": 0,
      "outputs": []
    },
    {
      "metadata": {
        "id": "siQ7f7gv6n1v",
        "colab_type": "code",
        "colab": {
          "base_uri": "https://localhost:8080/",
          "height": 294
        },
        "outputId": "6ae6fe6d-2f51-4625-b690-e52b0304983b"
      },
      "cell_type": "code",
      "source": [
        "#Generating confusion matrix\n",
        "conf_matrix = confusion_matrix(y_test, predictions)\n",
        "plt.figure(figsize=(4, 4))\n",
        "sns.heatmap(conf_matrix,  annot=True,xticklabels=['Neg','pos'], yticklabels=['Neg','Pos'],fmt=\"d\")\n",
        "plt.title(\"Confusion matrix\")\n",
        "plt.ylabel('True class')\n",
        "plt.xlabel('Predicted class')\n",
        "plt.show()"
      ],
      "execution_count": 97,
      "outputs": [
        {
          "output_type": "display_data",
          "data": {
            "image/png": "[encoded data removed]",
            "text/plain": [
              "<Figure size 288x288 with 2 Axes>"
            ]
          },
          "metadata": {
            "tags": []
          }
        }
      ]
    },
    {
      "metadata": {
        "id": "j7cDPdSbA8QS",
        "colab_type": "code",
        "colab": {
          "base_uri": "https://localhost:8080/",
          "height": 170
        },
        "outputId": "f6473081-0968-4392-e11d-ad459a4d34f6"
      },
      "cell_type": "code",
      "source": [
        "print(classification_report(y_test,predictions))"
      ],
      "execution_count": 98,
      "outputs": [
        {
          "output_type": "stream",
          "text": [
            "              precision    recall  f1-score   support\n",
            "\n",
            "         0.0       0.96      0.96      0.96      9881\n",
            "         1.0       0.96      0.96      0.96      9763\n",
            "\n",
            "   micro avg       0.96      0.96      0.96     19644\n",
            "   macro avg       0.96      0.96      0.96     19644\n",
            "weighted avg       0.96      0.96      0.96     19644\n",
            "\n"
          ],
          "name": "stdout"
        }
      ]
    },
    {
      "metadata": {
        "id": "JN32D4WSBsR9",
        "colab_type": "text"
      },
      "cell_type": "markdown",
      "source": [
        "**Using AUC metric**"
      ]
    },
    {
      "metadata": {
        "id": "0-MuUmcdA9rx",
        "colab_type": "code",
        "colab": {
          "base_uri": "https://localhost:8080/",
          "height": 459
        },
        "outputId": "f9cb2ec2-5278-403e-a93c-90e072afe565"
      },
      "cell_type": "code",
      "source": [
        "x = df_X.loc[:]\n",
        "y = df_y.loc[:]\n",
        "\n",
        "cv = StratifiedKFold(n_splits=5,shuffle=True)\n",
        "i =0\n",
        "aucs2 = []\n",
        "for train,test in cv.split(x,y):\n",
        "    print('{}%'.format(i*20))\n",
        "    X_train = x.iloc[train]\n",
        "    X_test = x.iloc[test]\n",
        "    y_train = y.iloc[train]\n",
        "    y_test = y.iloc[test]\n",
        "    \n",
        "    X_train = preprocessing.scale(X_train)\n",
        "    X_test = preprocessing.scale(X_test)\n",
        "    \n",
        "    pred = clf.fit(X_train,y_train).predict(X_test)\n",
        "    aucs2.append(roc_auc_score(y_test, pred))\n",
        "    i=i+1\n",
        "\n",
        "AUC2 = '{}+-{}'.format(round(np.average(aucs2), 2),round(np.std(aucs2),2))\n",
        "print('AUC:', AUC2 )"
      ],
      "execution_count": 99,
      "outputs": [
        {
          "output_type": "stream",
          "text": [
            "0%\n"
          ],
          "name": "stdout"
        },
        {
          "output_type": "stream",
          "text": [
            "/usr/local/lib/python3.6/dist-packages/ipykernel_launcher.py:14: DataConversionWarning: Data with input dtype int64, float64 were all converted to float64 by the scale function.\n",
            "  \n",
            "/usr/local/lib/python3.6/dist-packages/ipykernel_launcher.py:15: DataConversionWarning: Data with input dtype int64, float64 were all converted to float64 by the scale function.\n",
            "  from ipykernel import kernelapp as app\n"
          ],
          "name": "stderr"
        },
        {
          "output_type": "stream",
          "text": [
            "20%\n"
          ],
          "name": "stdout"
        },
        {
          "output_type": "stream",
          "text": [
            "/usr/local/lib/python3.6/dist-packages/ipykernel_launcher.py:14: DataConversionWarning: Data with input dtype int64, float64 were all converted to float64 by the scale function.\n",
            "  \n",
            "/usr/local/lib/python3.6/dist-packages/ipykernel_launcher.py:15: DataConversionWarning: Data with input dtype int64, float64 were all converted to float64 by the scale function.\n",
            "  from ipykernel import kernelapp as app\n"
          ],
          "name": "stderr"
        },
        {
          "output_type": "stream",
          "text": [
            "40%\n"
          ],
          "name": "stdout"
        },
        {
          "output_type": "stream",
          "text": [
            "/usr/local/lib/python3.6/dist-packages/ipykernel_launcher.py:14: DataConversionWarning: Data with input dtype int64, float64 were all converted to float64 by the scale function.\n",
            "  \n",
            "/usr/local/lib/python3.6/dist-packages/ipykernel_launcher.py:15: DataConversionWarning: Data with input dtype int64, float64 were all converted to float64 by the scale function.\n",
            "  from ipykernel import kernelapp as app\n"
          ],
          "name": "stderr"
        },
        {
          "output_type": "stream",
          "text": [
            "60%\n"
          ],
          "name": "stdout"
        },
        {
          "output_type": "stream",
          "text": [
            "/usr/local/lib/python3.6/dist-packages/ipykernel_launcher.py:14: DataConversionWarning: Data with input dtype int64, float64 were all converted to float64 by the scale function.\n",
            "  \n",
            "/usr/local/lib/python3.6/dist-packages/ipykernel_launcher.py:15: DataConversionWarning: Data with input dtype int64, float64 were all converted to float64 by the scale function.\n",
            "  from ipykernel import kernelapp as app\n"
          ],
          "name": "stderr"
        },
        {
          "output_type": "stream",
          "text": [
            "80%\n"
          ],
          "name": "stdout"
        },
        {
          "output_type": "stream",
          "text": [
            "/usr/local/lib/python3.6/dist-packages/ipykernel_launcher.py:14: DataConversionWarning: Data with input dtype int64, float64 were all converted to float64 by the scale function.\n",
            "  \n",
            "/usr/local/lib/python3.6/dist-packages/ipykernel_launcher.py:15: DataConversionWarning: Data with input dtype int64, float64 were all converted to float64 by the scale function.\n",
            "  from ipykernel import kernelapp as app\n"
          ],
          "name": "stderr"
        },
        {
          "output_type": "stream",
          "text": [
            "AUC: 0.94+-0.02\n"
          ],
          "name": "stdout"
        }
      ]
    },
    {
      "metadata": {
        "id": "2FwdNMoaHOxf",
        "colab_type": "text"
      },
      "cell_type": "markdown",
      "source": [
        "Using AUC metric with k-fold and k = 5, we obtained 0.94, which represents and excelent performance of the classifier for the Appetency problem. We may say that the network is realy capable of predicting when the client will desire other products or services."
      ]
    },
    {
      "metadata": {
        "id": "2noWwGcMIEpZ",
        "colab_type": "text"
      },
      "cell_type": "markdown",
      "source": [
        "**Churn**"
      ]
    },
    {
      "metadata": {
        "id": "hmZGDMQGH333",
        "colab_type": "code",
        "colab": {}
      },
      "cell_type": "code",
      "source": [
        "datatrain = data.drop(['appetency','upselling'],axis=1)\n",
        "df_maj = datatrain[datatrain.churn==0]\n",
        "df_min = datatrain[datatrain.churn==1]\n",
        "df_maj.shape,df_min.shape \n",
        "# Upsample minority class\n",
        "df_min_upsampled = resample(df_min, \n",
        "                                replace=True,     # sample with replacement\n",
        "                                 n_samples=df_maj.shape[0],    # to match majority class\n",
        "                                 random_state=RANDOM_SEED) # reproducible results\n",
        "\n",
        "df_upsampled = pd.concat([df_maj, df_min_upsampled])\n",
        "df_X = df_upsampled.drop(['churn'],axis=1)\n",
        "df_y = df_upsampled['churn']\n",
        "\n",
        "\n",
        "X_train, X_test, y_train, y_test = train_test_split(df_X,df_y ,test_size=0.2, random_state=RANDOM_SEED)\n",
        "X_train = X_train.values\n",
        "X_test = X_test.values\n",
        "y_train = y_train\n",
        "y_test = y_test\n",
        "\n",
        "X_train = preprocessing.scale(X_train)\n",
        "X_test = preprocessing.scale(X_test)"
      ],
      "execution_count": 0,
      "outputs": []
    },
    {
      "metadata": {
        "id": "aD9toopoIYhg",
        "colab_type": "code",
        "colab": {}
      },
      "cell_type": "code",
      "source": [
        "clf = MLPClassifier(hidden_layer_sizes=(256,128,64,32,16,8),learning_rate_init = 0.01, max_iter = 800)"
      ],
      "execution_count": 0,
      "outputs": []
    },
    {
      "metadata": {
        "id": "ev2cTnjEIcIQ",
        "colab_type": "code",
        "colab": {}
      },
      "cell_type": "code",
      "source": [
        "clf.fit(X_train, y_train)\n",
        "predictions = clf.predict(X_test)"
      ],
      "execution_count": 0,
      "outputs": []
    },
    {
      "metadata": {
        "id": "CnTZXaAjKXTi",
        "colab_type": "code",
        "colab": {
          "base_uri": "https://localhost:8080/",
          "height": 294
        },
        "outputId": "0ce643f6-5f97-4151-bf9a-3c65e59c3be3"
      },
      "cell_type": "code",
      "source": [
        "#Gerando Matriz de Confusão\n",
        "conf_matrix = confusion_matrix(y_test, predictions)\n",
        "plt.figure(figsize=(4, 4))\n",
        "sns.heatmap(conf_matrix,  annot=True,xticklabels=['Neg','pos'], yticklabels=['Neg','Pos'],fmt=\"d\")\n",
        "plt.title(\"Confusion matrix\")\n",
        "plt.ylabel('True class')\n",
        "plt.xlabel('Predicted class')\n",
        "plt.show()"
      ],
      "execution_count": 112,
      "outputs": [
        {
          "output_type": "display_data",
          "data": {
            "image/png": "[encoded data removed]",
            "text/plain": [
              "<Figure size 288x288 with 2 Axes>"
            ]
          },
          "metadata": {
            "tags": []
          }
        }
      ]
    },
    {
      "metadata": {
        "id": "58lOGaQsUReD",
        "colab_type": "code",
        "colab": {
          "base_uri": "https://localhost:8080/",
          "height": 459
        },
        "outputId": "bae7b5c5-d1b2-4dd0-c8eb-fe21d345f273"
      },
      "cell_type": "code",
      "source": [
        "x = df_X.loc[:]\n",
        "y = df_y.loc[:]\n",
        "\n",
        "cv = StratifiedKFold(n_splits=5,shuffle=True)\n",
        "i =0\n",
        "aucs2 = []\n",
        "for train,test in cv.split(x,y):\n",
        "    print('{}%'.format(i*20))\n",
        "    X_train = x.iloc[train]\n",
        "    X_test = x.iloc[test]\n",
        "    y_train = y.iloc[train]\n",
        "    y_test = y.iloc[test]\n",
        "    \n",
        "    X_train = preprocessing.scale(X_train)\n",
        "    X_test = preprocessing.scale(X_test)\n",
        "    \n",
        "    pred = clf.fit(X_train,y_train).predict(X_test)\n",
        "    aucs2.append(roc_auc_score(y_test, pred))\n",
        "    i=i+1\n",
        "\n",
        "AUC2 = '{}+-{}'.format(round(np.average(aucs2), 2),round(np.std(aucs2),2))\n",
        "print('AUC:', AUC2 )"
      ],
      "execution_count": 113,
      "outputs": [
        {
          "output_type": "stream",
          "text": [
            "0%\n"
          ],
          "name": "stdout"
        },
        {
          "output_type": "stream",
          "text": [
            "/usr/local/lib/python3.6/dist-packages/ipykernel_launcher.py:14: DataConversionWarning: Data with input dtype int64, float64 were all converted to float64 by the scale function.\n",
            "  \n",
            "/usr/local/lib/python3.6/dist-packages/ipykernel_launcher.py:15: DataConversionWarning: Data with input dtype int64, float64 were all converted to float64 by the scale function.\n",
            "  from ipykernel import kernelapp as app\n"
          ],
          "name": "stderr"
        },
        {
          "output_type": "stream",
          "text": [
            "20%\n"
          ],
          "name": "stdout"
        },
        {
          "output_type": "stream",
          "text": [
            "/usr/local/lib/python3.6/dist-packages/ipykernel_launcher.py:14: DataConversionWarning: Data with input dtype int64, float64 were all converted to float64 by the scale function.\n",
            "  \n",
            "/usr/local/lib/python3.6/dist-packages/ipykernel_launcher.py:15: DataConversionWarning: Data with input dtype int64, float64 were all converted to float64 by the scale function.\n",
            "  from ipykernel import kernelapp as app\n"
          ],
          "name": "stderr"
        },
        {
          "output_type": "stream",
          "text": [
            "40%\n"
          ],
          "name": "stdout"
        },
        {
          "output_type": "stream",
          "text": [
            "/usr/local/lib/python3.6/dist-packages/ipykernel_launcher.py:14: DataConversionWarning: Data with input dtype int64, float64 were all converted to float64 by the scale function.\n",
            "  \n",
            "/usr/local/lib/python3.6/dist-packages/ipykernel_launcher.py:15: DataConversionWarning: Data with input dtype int64, float64 were all converted to float64 by the scale function.\n",
            "  from ipykernel import kernelapp as app\n"
          ],
          "name": "stderr"
        },
        {
          "output_type": "stream",
          "text": [
            "60%\n"
          ],
          "name": "stdout"
        },
        {
          "output_type": "stream",
          "text": [
            "/usr/local/lib/python3.6/dist-packages/ipykernel_launcher.py:14: DataConversionWarning: Data with input dtype int64, float64 were all converted to float64 by the scale function.\n",
            "  \n",
            "/usr/local/lib/python3.6/dist-packages/ipykernel_launcher.py:15: DataConversionWarning: Data with input dtype int64, float64 were all converted to float64 by the scale function.\n",
            "  from ipykernel import kernelapp as app\n"
          ],
          "name": "stderr"
        },
        {
          "output_type": "stream",
          "text": [
            "80%\n"
          ],
          "name": "stdout"
        },
        {
          "output_type": "stream",
          "text": [
            "/usr/local/lib/python3.6/dist-packages/ipykernel_launcher.py:14: DataConversionWarning: Data with input dtype int64, float64 were all converted to float64 by the scale function.\n",
            "  \n",
            "/usr/local/lib/python3.6/dist-packages/ipykernel_launcher.py:15: DataConversionWarning: Data with input dtype int64, float64 were all converted to float64 by the scale function.\n",
            "  from ipykernel import kernelapp as app\n"
          ],
          "name": "stderr"
        },
        {
          "output_type": "stream",
          "text": [
            "AUC: 0.86+-0.03\n"
          ],
          "name": "stdout"
        }
      ]
    },
    {
      "metadata": {
        "id": "OR9tYXfSf9F3",
        "colab_type": "text"
      },
      "cell_type": "markdown",
      "source": [
        "Churn rate is also sometimes called attrition rate. It is one of two primary factors that determine the steady-state level of customers a business will support. In its broadest sense, churn rate is a measure of the number of individuals or items moving into or out (our case) of a collection over a specific period of time. \n",
        "\n",
        "We can say that the model created attended the problem with success, not only due to the good AUC (0.86) metric, but also the great number of True Positives well detected, as exposed in the confusion matrix.\n",
        "\n"
      ]
    },
    {
      "metadata": {
        "id": "G8ZBqyZCfKf2",
        "colab_type": "text"
      },
      "cell_type": "markdown",
      "source": [
        "**Upselling**"
      ]
    },
    {
      "metadata": {
        "id": "hDDH-ynOfOos",
        "colab_type": "code",
        "colab": {}
      },
      "cell_type": "code",
      "source": [
        "datatrain = data.drop(['appetency','churn'],axis=1)\n",
        "df_maj = datatrain[datatrain.upselling==0]\n",
        "df_min = datatrain[datatrain.upselling==1]\n",
        "df_maj.shape,df_min.shape \n",
        "# Upsample minority class\n",
        "df_min_upsampled = resample(df_min, \n",
        "                                replace=True,     # sample with replacement\n",
        "                                 n_samples=df_maj.shape[0],    # to match majority class\n",
        "                                 random_state=RANDOM_SEED) # reproducible results\n",
        "\n",
        "df_upsampled = pd.concat([df_maj, df_min_upsampled])\n",
        "df_X = df_upsampled.drop(['upselling'],axis=1)\n",
        "df_y = df_upsampled['upselling']\n",
        "\n",
        "\n",
        "X_train, X_test, y_train, y_test = train_test_split(df_X,df_y ,test_size=0.2, random_state=RANDOM_SEED)\n",
        "X_train = X_train.values\n",
        "X_test = X_test.values\n",
        "y_train = y_train\n",
        "y_test = y_test\n",
        "\n",
        "X_train = preprocessing.scale(X_train)\n",
        "X_test = preprocessing.scale(X_test)"
      ],
      "execution_count": 0,
      "outputs": []
    },
    {
      "metadata": {
        "id": "oK5sKIXOfXRM",
        "colab_type": "code",
        "colab": {}
      },
      "cell_type": "code",
      "source": [
        "clf = MLPClassifier(hidden_layer_sizes=(256,128,64,32,16,8),learning_rate_init = 0.01, max_iter = 800)"
      ],
      "execution_count": 0,
      "outputs": []
    },
    {
      "metadata": {
        "id": "uZXmSJfDfj_M",
        "colab_type": "code",
        "colab": {}
      },
      "cell_type": "code",
      "source": [
        "clf.fit(X_train, y_train)\n",
        "predictions = clf.predict(X_test)"
      ],
      "execution_count": 0,
      "outputs": []
    },
    {
      "metadata": {
        "id": "OHsFumojgjy_",
        "colab_type": "code",
        "colab": {
          "base_uri": "https://localhost:8080/",
          "height": 294
        },
        "outputId": "cd480092-4736-4812-e38c-a3a5599ede46"
      },
      "cell_type": "code",
      "source": [
        "#Generating Confusion Matrix\n",
        "conf_matrix = confusion_matrix(y_test, predictions)\n",
        "plt.figure(figsize=(4, 4))\n",
        "sns.heatmap(conf_matrix,  annot=True,xticklabels=['Neg','pos'], yticklabels=['Neg','Pos'],fmt=\"d\")\n",
        "plt.title(\"Confusion matrix\")\n",
        "plt.ylabel('True class')\n",
        "plt.xlabel('Predicted class')\n",
        "plt.show()"
      ],
      "execution_count": 120,
      "outputs": [
        {
          "output_type": "display_data",
          "data": {
            "image/png": "[encoded data removed]",
            "text/plain": [
              "<Figure size 288x288 with 2 Axes>"
            ]
          },
          "metadata": {
            "tags": []
          }
        }
      ]
    },
    {
      "metadata": {
        "id": "SO-k3R_XkKfA",
        "colab_type": "code",
        "colab": {
          "base_uri": "https://localhost:8080/",
          "height": 459
        },
        "outputId": "d85723fc-599a-405c-de06-740183558a06"
      },
      "cell_type": "code",
      "source": [
        "x = df_X.loc[:]\n",
        "y = df_y.loc[:]\n",
        "\n",
        "cv = StratifiedKFold(n_splits=5,shuffle=True)\n",
        "i =0\n",
        "aucs2 = []\n",
        "for train,test in cv.split(x,y):\n",
        "    print('{}%'.format(i*20))\n",
        "    X_train = x.iloc[train]\n",
        "    X_test = x.iloc[test]\n",
        "    y_train = y.iloc[train]\n",
        "    y_test = y.iloc[test]\n",
        "    \n",
        "    X_train = preprocessing.scale(X_train)\n",
        "    X_test = preprocessing.scale(X_test)\n",
        "    \n",
        "    pred = clf.fit(X_train,y_train).predict(X_test)\n",
        "    aucs2.append(roc_auc_score(y_test, pred))\n",
        "    i=i+1\n",
        "\n",
        "AUC2 = '{}+-{}'.format(round(np.average(aucs2), 2),round(np.std(aucs2),2))\n",
        "print('AUC:', AUC2 )"
      ],
      "execution_count": 121,
      "outputs": [
        {
          "output_type": "stream",
          "text": [
            "0%\n"
          ],
          "name": "stdout"
        },
        {
          "output_type": "stream",
          "text": [
            "/usr/local/lib/python3.6/dist-packages/ipykernel_launcher.py:14: DataConversionWarning: Data with input dtype int64, float64 were all converted to float64 by the scale function.\n",
            "  \n",
            "/usr/local/lib/python3.6/dist-packages/ipykernel_launcher.py:15: DataConversionWarning: Data with input dtype int64, float64 were all converted to float64 by the scale function.\n",
            "  from ipykernel import kernelapp as app\n"
          ],
          "name": "stderr"
        },
        {
          "output_type": "stream",
          "text": [
            "20%\n"
          ],
          "name": "stdout"
        },
        {
          "output_type": "stream",
          "text": [
            "/usr/local/lib/python3.6/dist-packages/ipykernel_launcher.py:14: DataConversionWarning: Data with input dtype int64, float64 were all converted to float64 by the scale function.\n",
            "  \n",
            "/usr/local/lib/python3.6/dist-packages/ipykernel_launcher.py:15: DataConversionWarning: Data with input dtype int64, float64 were all converted to float64 by the scale function.\n",
            "  from ipykernel import kernelapp as app\n"
          ],
          "name": "stderr"
        },
        {
          "output_type": "stream",
          "text": [
            "40%\n"
          ],
          "name": "stdout"
        },
        {
          "output_type": "stream",
          "text": [
            "/usr/local/lib/python3.6/dist-packages/ipykernel_launcher.py:14: DataConversionWarning: Data with input dtype int64, float64 were all converted to float64 by the scale function.\n",
            "  \n",
            "/usr/local/lib/python3.6/dist-packages/ipykernel_launcher.py:15: DataConversionWarning: Data with input dtype int64, float64 were all converted to float64 by the scale function.\n",
            "  from ipykernel import kernelapp as app\n"
          ],
          "name": "stderr"
        },
        {
          "output_type": "stream",
          "text": [
            "60%\n"
          ],
          "name": "stdout"
        },
        {
          "output_type": "stream",
          "text": [
            "/usr/local/lib/python3.6/dist-packages/ipykernel_launcher.py:14: DataConversionWarning: Data with input dtype int64, float64 were all converted to float64 by the scale function.\n",
            "  \n",
            "/usr/local/lib/python3.6/dist-packages/ipykernel_launcher.py:15: DataConversionWarning: Data with input dtype int64, float64 were all converted to float64 by the scale function.\n",
            "  from ipykernel import kernelapp as app\n"
          ],
          "name": "stderr"
        },
        {
          "output_type": "stream",
          "text": [
            "80%\n"
          ],
          "name": "stdout"
        },
        {
          "output_type": "stream",
          "text": [
            "/usr/local/lib/python3.6/dist-packages/ipykernel_launcher.py:14: DataConversionWarning: Data with input dtype int64, float64 were all converted to float64 by the scale function.\n",
            "  \n",
            "/usr/local/lib/python3.6/dist-packages/ipykernel_launcher.py:15: DataConversionWarning: Data with input dtype int64, float64 were all converted to float64 by the scale function.\n",
            "  from ipykernel import kernelapp as app\n"
          ],
          "name": "stderr"
        },
        {
          "output_type": "stream",
          "text": [
            "AUC: 0.86+-0.1\n"
          ],
          "name": "stdout"
        }
      ]
    },
    {
      "metadata": {
        "id": "RuqC1B4_lYWH",
        "colab_type": "text"
      },
      "cell_type": "markdown",
      "source": [
        "The model exposed previously presents good AUC metric (0.86). Thus, it is a model that can address well the Upselling situation. With this result, the company is able to create upselling techniques, trying to sell aditional products and upgrades to customers.\n"
      ]
    }
  ]
}